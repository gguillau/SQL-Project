{
 "cells": [
  {
   "cell_type": "markdown",
   "metadata": {},
   "source": [
    "## Project Description\n",
    "### Objective\n",
    "You're working as an analyst for Zuber, a new ride-sharing company that's launching in Chicago. Your task is to find patterns in the available information. You want to understand passenger preferences and the impact of external factors on rides. You'll study a database, analyze data from competitors, and test a hypothesis about the impact of weather on ride frequency.\n",
    "\n",
    "\n",
    "### Outline\n",
    "\n",
    "- Web Scraping\n",
    "    - Write a code to parse the data on weather in Chicago in November 2017 from the website: https://code.s3.yandex.net/data-analyst-eng/chicago_weather_2017.html\n",
    "- Exploratory Data Analysis I (SQL).\n",
    "    - Number of trips by company Nov 15-16, 2017\n",
    "    - Number of trips for companies that include 'Yellow' or 'Blue' in name Nov 1-7, 2017\n",
    "    - Number of November 2017 trips split by 3 company segments: 'Flash Cab', 'Taxi Affiliation Service', 'Other'\n",
    "- Hypothesis Testing (SQL)\n",
    "    - Test the hypothesis that the duration of rides from the the Loop to O'Hare International Airport changes on rainy Saturdays.\n",
    "- Exploratory Data Analysis (Python)\n",
    "    - identify the top 10 neighborhoods in terms of drop-offs\n",
    "    - make graphs: taxi companies and number of rides, top 10 neighborhoods by number of dropoffs\n",
    "    - draw conclusions based on each graph and explain the results\n",
    "\n",
    "- Hypothesis Testing (Python)\n",
    "\n",
    "    - The result of the last query contains data on rides from the Loop to O'Hare International Airport. \n",
    "\n",
    "    - Test the hypothesis: \"The average duration of rides from the Loop to O'Hare International Airport changes on rainy Saturdays.\"\n",
    "Decide where to set the significance level (alpha) on your own.\n",
    "    - Explain: how you formed the null and alternative hypotheses what criterion you used to test the hypotheses and why\n",
    "\n",
    "### Description of data\n",
    "SQL Results:\n",
    "- company_name: taxi company name\n",
    "- trips_amount: the number of rides for each taxi company on November 15-16, 2017.\n",
    "- dropoff_location_name: Chicago neighborhoods where rides ended\n",
    "- average_trips: the average number of rides that ended in each neighborhood in November 2017\n",
    "- start_ts: pickup date and time\n",
    "- weather_conditions: weather conditions at the moment the ride started\n",
    "- duration_seconds: ride duration in seconds"
   ]
  },
  {
   "cell_type": "markdown",
   "metadata": {},
   "source": [
    "## Exploratory Data Analysis"
   ]
  },
  {
   "cell_type": "code",
   "execution_count": 1,
   "metadata": {},
   "outputs": [],
   "source": [
    "# Initialize\n",
    "import pandas as pd\n",
    "import matplotlib.pyplot as plt\n",
    "import seaborn as sns\n",
    "from scipy import stats as st\n",
    "\n"
   ]
  },
  {
   "cell_type": "code",
   "execution_count": 2,
   "metadata": {},
   "outputs": [],
   "source": [
    "# Import data\n",
    "company_df = pd.read_csv('/datasets/project_sql_result_01.csv')\n",
    "trips_df = pd.read_csv('/datasets/project_sql_result_04.csv')"
   ]
  },
  {
   "cell_type": "code",
   "execution_count": 3,
   "metadata": {
    "scrolled": false
   },
   "outputs": [
    {
     "name": "stdout",
     "output_type": "stream",
     "text": [
      "<class 'pandas.core.frame.DataFrame'>\n",
      "RangeIndex: 64 entries, 0 to 63\n",
      "Data columns (total 2 columns):\n",
      " #   Column        Non-Null Count  Dtype \n",
      "---  ------        --------------  ----- \n",
      " 0   company_name  64 non-null     object\n",
      " 1   trips_amount  64 non-null     int64 \n",
      "dtypes: int64(1), object(1)\n",
      "memory usage: 1.1+ KB\n"
     ]
    }
   ],
   "source": [
    "# Print general/summary info of dataset\n",
    "company_df.info()\n"
   ]
  },
  {
   "cell_type": "markdown",
   "metadata": {},
   "source": [
    "This dataframe contains taxi company names and the number of rides for each taxi company on November 15-16, 2017. No null values."
   ]
  },
  {
   "cell_type": "code",
   "execution_count": 4,
   "metadata": {
    "scrolled": true
   },
   "outputs": [
    {
     "data": {
      "text/html": [
       "<div>\n",
       "<style scoped>\n",
       "    .dataframe tbody tr th:only-of-type {\n",
       "        vertical-align: middle;\n",
       "    }\n",
       "\n",
       "    .dataframe tbody tr th {\n",
       "        vertical-align: top;\n",
       "    }\n",
       "\n",
       "    .dataframe thead th {\n",
       "        text-align: right;\n",
       "    }\n",
       "</style>\n",
       "<table border=\"1\" class=\"dataframe\">\n",
       "  <thead>\n",
       "    <tr style=\"text-align: right;\">\n",
       "      <th></th>\n",
       "      <th>trips_amount</th>\n",
       "    </tr>\n",
       "  </thead>\n",
       "  <tbody>\n",
       "    <tr>\n",
       "      <th>count</th>\n",
       "      <td>64.000000</td>\n",
       "    </tr>\n",
       "    <tr>\n",
       "      <th>mean</th>\n",
       "      <td>2145.484375</td>\n",
       "    </tr>\n",
       "    <tr>\n",
       "      <th>std</th>\n",
       "      <td>3812.310186</td>\n",
       "    </tr>\n",
       "    <tr>\n",
       "      <th>min</th>\n",
       "      <td>2.000000</td>\n",
       "    </tr>\n",
       "    <tr>\n",
       "      <th>25%</th>\n",
       "      <td>20.750000</td>\n",
       "    </tr>\n",
       "    <tr>\n",
       "      <th>50%</th>\n",
       "      <td>178.500000</td>\n",
       "    </tr>\n",
       "    <tr>\n",
       "      <th>75%</th>\n",
       "      <td>2106.500000</td>\n",
       "    </tr>\n",
       "    <tr>\n",
       "      <th>max</th>\n",
       "      <td>19558.000000</td>\n",
       "    </tr>\n",
       "  </tbody>\n",
       "</table>\n",
       "</div>"
      ],
      "text/plain": [
       "       trips_amount\n",
       "count     64.000000\n",
       "mean    2145.484375\n",
       "std     3812.310186\n",
       "min        2.000000\n",
       "25%       20.750000\n",
       "50%      178.500000\n",
       "75%     2106.500000\n",
       "max    19558.000000"
      ]
     },
     "execution_count": 4,
     "metadata": {},
     "output_type": "execute_result"
    }
   ],
   "source": [
    "# Descriptive statistics of the data\n",
    "\n",
    "company_df.describe()"
   ]
  },
  {
   "cell_type": "markdown",
   "metadata": {},
   "source": [
    "Tbe average amount of rides per company is 2145 which is considerably less than the most popular company which recorded about 20000 rides on Nov 15-16, 2017."
   ]
  },
  {
   "cell_type": "code",
   "execution_count": 5,
   "metadata": {},
   "outputs": [
    {
     "data": {
      "text/html": [
       "<div>\n",
       "<style scoped>\n",
       "    .dataframe tbody tr th:only-of-type {\n",
       "        vertical-align: middle;\n",
       "    }\n",
       "\n",
       "    .dataframe tbody tr th {\n",
       "        vertical-align: top;\n",
       "    }\n",
       "\n",
       "    .dataframe thead th {\n",
       "        text-align: right;\n",
       "    }\n",
       "</style>\n",
       "<table border=\"1\" class=\"dataframe\">\n",
       "  <thead>\n",
       "    <tr style=\"text-align: right;\">\n",
       "      <th></th>\n",
       "      <th>company_name</th>\n",
       "      <th>trips_amount</th>\n",
       "    </tr>\n",
       "  </thead>\n",
       "  <tbody>\n",
       "    <tr>\n",
       "      <th>0</th>\n",
       "      <td>Flash Cab</td>\n",
       "      <td>19558</td>\n",
       "    </tr>\n",
       "    <tr>\n",
       "      <th>1</th>\n",
       "      <td>Taxi Affiliation Services</td>\n",
       "      <td>11422</td>\n",
       "    </tr>\n",
       "    <tr>\n",
       "      <th>2</th>\n",
       "      <td>Medallion Leasing</td>\n",
       "      <td>10367</td>\n",
       "    </tr>\n",
       "    <tr>\n",
       "      <th>3</th>\n",
       "      <td>Yellow Cab</td>\n",
       "      <td>9888</td>\n",
       "    </tr>\n",
       "    <tr>\n",
       "      <th>4</th>\n",
       "      <td>Taxi Affiliation Service Yellow</td>\n",
       "      <td>9299</td>\n",
       "    </tr>\n",
       "    <tr>\n",
       "      <th>5</th>\n",
       "      <td>Chicago Carriage Cab Corp</td>\n",
       "      <td>9181</td>\n",
       "    </tr>\n",
       "    <tr>\n",
       "      <th>6</th>\n",
       "      <td>City Service</td>\n",
       "      <td>8448</td>\n",
       "    </tr>\n",
       "    <tr>\n",
       "      <th>7</th>\n",
       "      <td>Sun Taxi</td>\n",
       "      <td>7701</td>\n",
       "    </tr>\n",
       "    <tr>\n",
       "      <th>8</th>\n",
       "      <td>Star North Management LLC</td>\n",
       "      <td>7455</td>\n",
       "    </tr>\n",
       "    <tr>\n",
       "      <th>9</th>\n",
       "      <td>Blue Ribbon Taxi Association Inc.</td>\n",
       "      <td>5953</td>\n",
       "    </tr>\n",
       "  </tbody>\n",
       "</table>\n",
       "</div>"
      ],
      "text/plain": [
       "                        company_name  trips_amount\n",
       "0                          Flash Cab         19558\n",
       "1          Taxi Affiliation Services         11422\n",
       "2                  Medallion Leasing         10367\n",
       "3                         Yellow Cab          9888\n",
       "4    Taxi Affiliation Service Yellow          9299\n",
       "5          Chicago Carriage Cab Corp          9181\n",
       "6                       City Service          8448\n",
       "7                           Sun Taxi          7701\n",
       "8          Star North Management LLC          7455\n",
       "9  Blue Ribbon Taxi Association Inc.          5953"
      ]
     },
     "execution_count": 5,
     "metadata": {},
     "output_type": "execute_result"
    }
   ],
   "source": [
    "# Find top 10 companies\n",
    "top_10_companies = company_df.sort_values('trips_amount',ascending=False).head(10)\n",
    "top_10_companies"
   ]
  },
  {
   "cell_type": "code",
   "execution_count": 6,
   "metadata": {
    "scrolled": false
   },
   "outputs": [
    {
     "data": {
      "image/png": "[encoded data removed]",
      "text/plain": [
       "<Figure size 432x288 with 1 Axes>"
      ]
     },
     "metadata": {
      "needs_background": "light"
     },
     "output_type": "display_data"
    }
   ],
   "source": [
    "# Graph top 10 taxi companies\n",
    "top_10_companies = top_10_companies.set_index('company_name')\n",
    "top_10_companies.plot(kind='barh').set_title('Number of Trips per Taxi Company')\n",
    "plt.xlabel(\"Company\")\n",
    "plt.ylabel(\"Number of Trips\")\n",
    "plt.show()"
   ]
  },
  {
   "cell_type": "markdown",
   "metadata": {},
   "source": [
    "Flash Cab is overwhelmingly the most popular taxi company, almost double the second, Taxi Affiliation Services.\n",
    "\n"
   ]
  },
  {
   "cell_type": "code",
   "execution_count": 7,
   "metadata": {
    "scrolled": false
   },
   "outputs": [
    {
     "name": "stdout",
     "output_type": "stream",
     "text": [
      "<class 'pandas.core.frame.DataFrame'>\n",
      "RangeIndex: 94 entries, 0 to 93\n",
      "Data columns (total 2 columns):\n",
      " #   Column                 Non-Null Count  Dtype  \n",
      "---  ------                 --------------  -----  \n",
      " 0   dropoff_location_name  94 non-null     object \n",
      " 1   average_trips          94 non-null     float64\n",
      "dtypes: float64(1), object(1)\n",
      "memory usage: 1.6+ KB\n"
     ]
    },
    {
     "data": {
      "text/html": [
       "<div>\n",
       "<style scoped>\n",
       "    .dataframe tbody tr th:only-of-type {\n",
       "        vertical-align: middle;\n",
       "    }\n",
       "\n",
       "    .dataframe tbody tr th {\n",
       "        vertical-align: top;\n",
       "    }\n",
       "\n",
       "    .dataframe thead th {\n",
       "        text-align: right;\n",
       "    }\n",
       "</style>\n",
       "<table border=\"1\" class=\"dataframe\">\n",
       "  <thead>\n",
       "    <tr style=\"text-align: right;\">\n",
       "      <th></th>\n",
       "    </tr>\n",
       "  </thead>\n",
       "  <tbody>\n",
       "  </tbody>\n",
       "</table>\n",
       "</div>"
      ],
      "text/plain": [
       "Empty DataFrame\n",
       "Columns: []\n",
       "Index: []"
      ]
     },
     "execution_count": 7,
     "metadata": {},
     "output_type": "execute_result"
    }
   ],
   "source": [
    "# Print general/summary info of dataset\n",
    "\n",
    "pd.DataFrame(trips_df.info())"
   ]
  },
  {
   "cell_type": "markdown",
   "metadata": {},
   "source": [
    "No nulls but average trips is a float which should be an integer as it represented average numnber of trips.\n",
    "\n"
   ]
  },
  {
   "cell_type": "code",
   "execution_count": 8,
   "metadata": {},
   "outputs": [],
   "source": [
    "# Convert average_trips column to int\n",
    "trips_df['average_trips'] = trips_df.average_trips.astype(int) \n"
   ]
  },
  {
   "cell_type": "code",
   "execution_count": 9,
   "metadata": {},
   "outputs": [
    {
     "data": {
      "text/html": [
       "<div>\n",
       "<style scoped>\n",
       "    .dataframe tbody tr th:only-of-type {\n",
       "        vertical-align: middle;\n",
       "    }\n",
       "\n",
       "    .dataframe tbody tr th {\n",
       "        vertical-align: top;\n",
       "    }\n",
       "\n",
       "    .dataframe thead th {\n",
       "        text-align: right;\n",
       "    }\n",
       "</style>\n",
       "<table border=\"1\" class=\"dataframe\">\n",
       "  <thead>\n",
       "    <tr style=\"text-align: right;\">\n",
       "      <th></th>\n",
       "      <th>average_trips</th>\n",
       "    </tr>\n",
       "  </thead>\n",
       "  <tbody>\n",
       "    <tr>\n",
       "      <th>count</th>\n",
       "      <td>94.000000</td>\n",
       "    </tr>\n",
       "    <tr>\n",
       "      <th>mean</th>\n",
       "      <td>599.478723</td>\n",
       "    </tr>\n",
       "    <tr>\n",
       "      <th>std</th>\n",
       "      <td>1714.555974</td>\n",
       "    </tr>\n",
       "    <tr>\n",
       "      <th>min</th>\n",
       "      <td>1.000000</td>\n",
       "    </tr>\n",
       "    <tr>\n",
       "      <th>25%</th>\n",
       "      <td>14.000000</td>\n",
       "    </tr>\n",
       "    <tr>\n",
       "      <th>50%</th>\n",
       "      <td>51.500000</td>\n",
       "    </tr>\n",
       "    <tr>\n",
       "      <th>75%</th>\n",
       "      <td>298.750000</td>\n",
       "    </tr>\n",
       "    <tr>\n",
       "      <th>max</th>\n",
       "      <td>10727.000000</td>\n",
       "    </tr>\n",
       "  </tbody>\n",
       "</table>\n",
       "</div>"
      ],
      "text/plain": [
       "       average_trips\n",
       "count      94.000000\n",
       "mean      599.478723\n",
       "std      1714.555974\n",
       "min         1.000000\n",
       "25%        14.000000\n",
       "50%        51.500000\n",
       "75%       298.750000\n",
       "max     10727.000000"
      ]
     },
     "execution_count": 9,
     "metadata": {},
     "output_type": "execute_result"
    }
   ],
   "source": [
    "# Descriptive statistics of the data\n",
    "\n",
    "trips_df.describe()"
   ]
  },
  {
   "cell_type": "code",
   "execution_count": 10,
   "metadata": {},
   "outputs": [
    {
     "data": {
      "text/html": [
       "<div>\n",
       "<style scoped>\n",
       "    .dataframe tbody tr th:only-of-type {\n",
       "        vertical-align: middle;\n",
       "    }\n",
       "\n",
       "    .dataframe tbody tr th {\n",
       "        vertical-align: top;\n",
       "    }\n",
       "\n",
       "    .dataframe thead th {\n",
       "        text-align: right;\n",
       "    }\n",
       "</style>\n",
       "<table border=\"1\" class=\"dataframe\">\n",
       "  <thead>\n",
       "    <tr style=\"text-align: right;\">\n",
       "      <th></th>\n",
       "      <th>dropoff_location_name</th>\n",
       "      <th>average_trips</th>\n",
       "    </tr>\n",
       "  </thead>\n",
       "  <tbody>\n",
       "    <tr>\n",
       "      <th>0</th>\n",
       "      <td>Loop</td>\n",
       "      <td>10727</td>\n",
       "    </tr>\n",
       "    <tr>\n",
       "      <th>1</th>\n",
       "      <td>River North</td>\n",
       "      <td>9523</td>\n",
       "    </tr>\n",
       "    <tr>\n",
       "      <th>2</th>\n",
       "      <td>Streeterville</td>\n",
       "      <td>6664</td>\n",
       "    </tr>\n",
       "    <tr>\n",
       "      <th>3</th>\n",
       "      <td>West Loop</td>\n",
       "      <td>5163</td>\n",
       "    </tr>\n",
       "    <tr>\n",
       "      <th>4</th>\n",
       "      <td>O'Hare</td>\n",
       "      <td>2546</td>\n",
       "    </tr>\n",
       "    <tr>\n",
       "      <th>5</th>\n",
       "      <td>Lake View</td>\n",
       "      <td>2420</td>\n",
       "    </tr>\n",
       "    <tr>\n",
       "      <th>6</th>\n",
       "      <td>Grant Park</td>\n",
       "      <td>2068</td>\n",
       "    </tr>\n",
       "    <tr>\n",
       "      <th>7</th>\n",
       "      <td>Museum Campus</td>\n",
       "      <td>1510</td>\n",
       "    </tr>\n",
       "    <tr>\n",
       "      <th>8</th>\n",
       "      <td>Gold Coast</td>\n",
       "      <td>1364</td>\n",
       "    </tr>\n",
       "    <tr>\n",
       "      <th>9</th>\n",
       "      <td>Sheffield &amp; DePaul</td>\n",
       "      <td>1259</td>\n",
       "    </tr>\n",
       "  </tbody>\n",
       "</table>\n",
       "</div>"
      ],
      "text/plain": [
       "  dropoff_location_name  average_trips\n",
       "0                  Loop          10727\n",
       "1           River North           9523\n",
       "2         Streeterville           6664\n",
       "3             West Loop           5163\n",
       "4                O'Hare           2546\n",
       "5             Lake View           2420\n",
       "6            Grant Park           2068\n",
       "7         Museum Campus           1510\n",
       "8            Gold Coast           1364\n",
       "9    Sheffield & DePaul           1259"
      ]
     },
     "execution_count": 10,
     "metadata": {},
     "output_type": "execute_result"
    }
   ],
   "source": [
    "# Find top 10 dropoff locations\n",
    "top_10_dropoff = trips_df.sort_values('average_trips',ascending=False).head(10)\n",
    "\n",
    "top_10_dropoff"
   ]
  },
  {
   "cell_type": "code",
   "execution_count": 11,
   "metadata": {},
   "outputs": [
    {
     "data": {
      "image/png": "[encoded data removed]",
      "text/plain": [
       "<Figure size 432x288 with 1 Axes>"
      ]
     },
     "metadata": {
      "needs_background": "light"
     },
     "output_type": "display_data"
    }
   ],
   "source": [
    "# Graph top 10 dropoff locations\n",
    "\n",
    "top_10_dropoff = top_10_dropoff.set_index('dropoff_location_name')\n",
    "top_10_dropoff.plot(kind='barh',color='green')\n",
    "plt.xlabel(\"Drop Off Location\")\n",
    "plt.ylabel(\"Average Number of Trips\")\n",
    "plt.title('Average Number of Trips per Drop-off Location')\n",
    "plt.show()"
   ]
  },
  {
   "cell_type": "markdown",
   "metadata": {},
   "source": [
    "Above are the top 10 drop-off locations by number of trips. We can conclude that the most popular area for trips is the Loop neighborhood, which is located near the center of Downtown Chicago."
   ]
  },
  {
   "cell_type": "markdown",
   "metadata": {},
   "source": [
    "## Hypothesis Testing"
   ]
  },
  {
   "cell_type": "code",
   "execution_count": 12,
   "metadata": {},
   "outputs": [
    {
     "data": {
      "text/html": [
       "<div>\n",
       "<style scoped>\n",
       "    .dataframe tbody tr th:only-of-type {\n",
       "        vertical-align: middle;\n",
       "    }\n",
       "\n",
       "    .dataframe tbody tr th {\n",
       "        vertical-align: top;\n",
       "    }\n",
       "\n",
       "    .dataframe thead th {\n",
       "        text-align: right;\n",
       "    }\n",
       "</style>\n",
       "<table border=\"1\" class=\"dataframe\">\n",
       "  <thead>\n",
       "    <tr style=\"text-align: right;\">\n",
       "      <th></th>\n",
       "      <th>start_ts</th>\n",
       "      <th>weather_conditions</th>\n",
       "      <th>duration_seconds</th>\n",
       "    </tr>\n",
       "  </thead>\n",
       "  <tbody>\n",
       "    <tr>\n",
       "      <th>0</th>\n",
       "      <td>2017-11-25 16:00:00</td>\n",
       "      <td>Good</td>\n",
       "      <td>2410.0</td>\n",
       "    </tr>\n",
       "    <tr>\n",
       "      <th>1</th>\n",
       "      <td>2017-11-25 14:00:00</td>\n",
       "      <td>Good</td>\n",
       "      <td>1920.0</td>\n",
       "    </tr>\n",
       "    <tr>\n",
       "      <th>2</th>\n",
       "      <td>2017-11-25 12:00:00</td>\n",
       "      <td>Good</td>\n",
       "      <td>1543.0</td>\n",
       "    </tr>\n",
       "    <tr>\n",
       "      <th>3</th>\n",
       "      <td>2017-11-04 10:00:00</td>\n",
       "      <td>Good</td>\n",
       "      <td>2512.0</td>\n",
       "    </tr>\n",
       "    <tr>\n",
       "      <th>4</th>\n",
       "      <td>2017-11-11 07:00:00</td>\n",
       "      <td>Good</td>\n",
       "      <td>1440.0</td>\n",
       "    </tr>\n",
       "    <tr>\n",
       "      <th>...</th>\n",
       "      <td>...</td>\n",
       "      <td>...</td>\n",
       "      <td>...</td>\n",
       "    </tr>\n",
       "    <tr>\n",
       "      <th>1063</th>\n",
       "      <td>2017-11-25 11:00:00</td>\n",
       "      <td>Good</td>\n",
       "      <td>0.0</td>\n",
       "    </tr>\n",
       "    <tr>\n",
       "      <th>1064</th>\n",
       "      <td>2017-11-11 10:00:00</td>\n",
       "      <td>Good</td>\n",
       "      <td>1318.0</td>\n",
       "    </tr>\n",
       "    <tr>\n",
       "      <th>1065</th>\n",
       "      <td>2017-11-11 13:00:00</td>\n",
       "      <td>Good</td>\n",
       "      <td>2100.0</td>\n",
       "    </tr>\n",
       "    <tr>\n",
       "      <th>1066</th>\n",
       "      <td>2017-11-11 08:00:00</td>\n",
       "      <td>Good</td>\n",
       "      <td>1380.0</td>\n",
       "    </tr>\n",
       "    <tr>\n",
       "      <th>1067</th>\n",
       "      <td>2017-11-04 16:00:00</td>\n",
       "      <td>Bad</td>\n",
       "      <td>2834.0</td>\n",
       "    </tr>\n",
       "  </tbody>\n",
       "</table>\n",
       "<p>1068 rows × 3 columns</p>\n",
       "</div>"
      ],
      "text/plain": [
       "                 start_ts weather_conditions  duration_seconds\n",
       "0     2017-11-25 16:00:00               Good            2410.0\n",
       "1     2017-11-25 14:00:00               Good            1920.0\n",
       "2     2017-11-25 12:00:00               Good            1543.0\n",
       "3     2017-11-04 10:00:00               Good            2512.0\n",
       "4     2017-11-11 07:00:00               Good            1440.0\n",
       "...                   ...                ...               ...\n",
       "1063  2017-11-25 11:00:00               Good               0.0\n",
       "1064  2017-11-11 10:00:00               Good            1318.0\n",
       "1065  2017-11-11 13:00:00               Good            2100.0\n",
       "1066  2017-11-11 08:00:00               Good            1380.0\n",
       "1067  2017-11-04 16:00:00                Bad            2834.0\n",
       "\n",
       "[1068 rows x 3 columns]"
      ]
     },
     "execution_count": 12,
     "metadata": {},
     "output_type": "execute_result"
    }
   ],
   "source": [
    "# Import data\n",
    "loop_ohare = pd.read_csv('/datasets/project_sql_result_07.csv')\n",
    "loop_ohare"
   ]
  },
  {
   "cell_type": "code",
   "execution_count": 13,
   "metadata": {
    "scrolled": true
   },
   "outputs": [
    {
     "name": "stdout",
     "output_type": "stream",
     "text": [
      "<class 'pandas.core.frame.DataFrame'>\n",
      "RangeIndex: 1068 entries, 0 to 1067\n",
      "Data columns (total 3 columns):\n",
      " #   Column              Non-Null Count  Dtype  \n",
      "---  ------              --------------  -----  \n",
      " 0   start_ts            1068 non-null   object \n",
      " 1   weather_conditions  1068 non-null   object \n",
      " 2   duration_seconds    1068 non-null   float64\n",
      "dtypes: float64(1), object(2)\n",
      "memory usage: 25.2+ KB\n"
     ]
    }
   ],
   "source": [
    "# Print general/summary info of dataset\n",
    "\n",
    "loop_ohare.info()\n"
   ]
  },
  {
   "cell_type": "markdown",
   "metadata": {},
   "source": [
    "This dataframe contains data on rides specificly from the Loop to O'Hare International Airport. There are 1068 entries with no null values."
   ]
  },
  {
   "cell_type": "code",
   "execution_count": 14,
   "metadata": {},
   "outputs": [
    {
     "data": {
      "text/html": [
       "<div>\n",
       "<style scoped>\n",
       "    .dataframe tbody tr th:only-of-type {\n",
       "        vertical-align: middle;\n",
       "    }\n",
       "\n",
       "    .dataframe tbody tr th {\n",
       "        vertical-align: top;\n",
       "    }\n",
       "\n",
       "    .dataframe thead th {\n",
       "        text-align: right;\n",
       "    }\n",
       "</style>\n",
       "<table border=\"1\" class=\"dataframe\">\n",
       "  <thead>\n",
       "    <tr style=\"text-align: right;\">\n",
       "      <th></th>\n",
       "      <th>duration_seconds</th>\n",
       "    </tr>\n",
       "  </thead>\n",
       "  <tbody>\n",
       "    <tr>\n",
       "      <th>count</th>\n",
       "      <td>1068.000000</td>\n",
       "    </tr>\n",
       "    <tr>\n",
       "      <th>mean</th>\n",
       "      <td>2071.731273</td>\n",
       "    </tr>\n",
       "    <tr>\n",
       "      <th>std</th>\n",
       "      <td>769.461125</td>\n",
       "    </tr>\n",
       "    <tr>\n",
       "      <th>min</th>\n",
       "      <td>0.000000</td>\n",
       "    </tr>\n",
       "    <tr>\n",
       "      <th>25%</th>\n",
       "      <td>1438.250000</td>\n",
       "    </tr>\n",
       "    <tr>\n",
       "      <th>50%</th>\n",
       "      <td>1980.000000</td>\n",
       "    </tr>\n",
       "    <tr>\n",
       "      <th>75%</th>\n",
       "      <td>2580.000000</td>\n",
       "    </tr>\n",
       "    <tr>\n",
       "      <th>max</th>\n",
       "      <td>7440.000000</td>\n",
       "    </tr>\n",
       "  </tbody>\n",
       "</table>\n",
       "</div>"
      ],
      "text/plain": [
       "       duration_seconds\n",
       "count       1068.000000\n",
       "mean        2071.731273\n",
       "std          769.461125\n",
       "min            0.000000\n",
       "25%         1438.250000\n",
       "50%         1980.000000\n",
       "75%         2580.000000\n",
       "max         7440.000000"
      ]
     },
     "execution_count": 14,
     "metadata": {},
     "output_type": "execute_result"
    }
   ],
   "source": [
    "# Descriptive statistics \n",
    "\n",
    "loop_ohare.describe()"
   ]
  },
  {
   "cell_type": "markdown",
   "metadata": {},
   "source": [
    "The average trip duration is  2071 seconds."
   ]
  },
  {
   "cell_type": "code",
   "execution_count": 15,
   "metadata": {
    "scrolled": true
   },
   "outputs": [
    {
     "data": {
      "image/png": "[encoded data removed]",
      "text/plain": [
       "<Figure size 432x288 with 1 Axes>"
      ]
     },
     "metadata": {
      "needs_background": "light"
     },
     "output_type": "display_data"
    }
   ],
   "source": [
    "#Check for outliers\n",
    "\n",
    "sns.boxplot(x=\"duration_seconds\", y=\"weather_conditions\", data=loop_ohare).set_title('Duration (sec) by Weather Condition')\n",
    "plt.xlabel(\"Duration in Seconds\")\n",
    "plt.ylabel(\"Weather Condition\");\n",
    "\n"
   ]
  },
  {
   "cell_type": "markdown",
   "metadata": {},
   "source": [
    "According to the descriptive statistics table and boxplot above, there are outliers that may affect the accuracy of our analysis and therefore they will be removed."
   ]
  },
  {
   "cell_type": "code",
   "execution_count": 16,
   "metadata": {},
   "outputs": [
    {
     "name": "stdout",
     "output_type": "stream",
     "text": [
      "Q1:  1438.25\n",
      "Q3:  2580.0\n",
      "IQR:  1141.75\n",
      "min:  0\n",
      "max:  4292.625\n"
     ]
    }
   ],
   "source": [
    "# Remove outliers\n",
    "condition = 'Good'\n",
    "Q1 = loop_ohare['duration_seconds'].quantile(0.25)\n",
    "Q3 = loop_ohare['duration_seconds'].quantile(0.75)\n",
    "IQR = Q3 - Q1\n",
    "print('Q1: ', Q1)\n",
    "print('Q3: ', Q3)\n",
    "print('IQR: ', IQR)\n",
    "\n",
    "#\n",
    "bottom_cutoff = Q1 - (1.5* IQR)\n",
    "top_cutoff = Q3 + 1.5 * IQR\n",
    "if bottom_cutoff < 0:\n",
    "    bottom_cutoff = 0\n",
    "print('min: ',bottom_cutoff)\n",
    "print('max: ',top_cutoff)"
   ]
  },
  {
   "cell_type": "code",
   "execution_count": 17,
   "metadata": {
    "scrolled": true
   },
   "outputs": [
    {
     "data": {
      "image/png": "[encoded data removed]",
      "text/plain": [
       "<Figure size 432x288 with 1 Axes>"
      ]
     },
     "metadata": {
      "needs_background": "light"
     },
     "output_type": "display_data"
    }
   ],
   "source": [
    "# Remove Outliers\n",
    "\n",
    "loop_ohare_without_outliers = loop_ohare.query('duration_seconds <= @top_cutoff')\n",
    "sns.boxplot(x=\"duration_seconds\", y=\"weather_conditions\", data=loop_ohare_without_outliers).set_title('Duration (sec) by Weather Condition')\n",
    "plt.show()"
   ]
  },
  {
   "cell_type": "markdown",
   "metadata": {},
   "source": [
    "Test the hypothesis:\n",
    "\"The average duration of rides from the Loop to O'Hare International Airport changes on rainy Saturdays.\"\n",
    "\n",
    "\n",
    "- Null Hypothesis ($H_O$): \"The average duration of rides from the Loop to O'Hare International Airport does not change on rainy Saturdays.\"\n",
    "- Alternate Hypothesis ($H_A$):  \"The average duration of rides from the Loop to O'Hare International Airport changes on rainy Saturdays.\"\n"
   ]
  },
  {
   "cell_type": "code",
   "execution_count": 18,
   "metadata": {},
   "outputs": [
    {
     "name": "stdout",
     "output_type": "stream",
     "text": [
      "p-value:  1.2430038032744411e-13\n",
      "We reject the null hypothesis\n"
     ]
    }
   ],
   "source": [
    "# Hypothesis testing\n",
    "from scipy import stats as st\n",
    "\n",
    "alpha = 0.05\n",
    "sample = loop_ohare_without_outliers.query('weather_conditions == \"Good\"')\n",
    "rain_sample = loop_ohare_without_outliers.query('weather_conditions == \"Bad\"')\n",
    "\n",
    "results = st.ttest_ind(sample.duration_seconds ,rain_sample.duration_seconds)\n",
    "print('p-value: ', results.pvalue)\n",
    "\n",
    "if (results.pvalue < alpha):\n",
    "        print(\"We reject the null hypothesis\")\n",
    "else:\n",
    "        print(\"We can't reject the null hypothesis\")"
   ]
  },
  {
   "cell_type": "markdown",
   "metadata": {},
   "source": [
    "As the p-value is less than 0.05, there is a significant difference between the average duration of rides on good weather days vs bad weather days (and very low chance this difference was caused by randomness). Therefore, we can reject the null hypothesis  accept the alternative hypothesis that the average duration of rides from the Loop to O'Hare International Airport changes on rainy Saturdays."
   ]
  }
 ],
 "metadata": {
  "ExecuteTimeLog": [
   {
    "duration": 48,
    "start_time": "2022-04-10T19:53:29.889Z"
   },
   {
    "duration": 1399,
    "start_time": "2022-04-10T19:53:47.079Z"
   },
   {
    "duration": 68,
    "start_time": "2022-04-10T19:53:48.480Z"
   },
   {
    "duration": 70,
    "start_time": "2022-04-10T19:54:09.784Z"
   },
   {
    "duration": 12,
    "start_time": "2022-04-10T19:54:21.582Z"
   },
   {
    "duration": 10,
    "start_time": "2022-04-10T19:54:36.922Z"
   },
   {
    "duration": 24,
    "start_time": "2022-04-10T19:56:05.510Z"
   },
   {
    "duration": 11,
    "start_time": "2022-04-10T19:56:18.525Z"
   },
   {
    "duration": 12,
    "start_time": "2022-04-10T19:56:22.636Z"
   },
   {
    "duration": 18,
    "start_time": "2022-04-10T19:56:27.795Z"
   },
   {
    "duration": 51,
    "start_time": "2022-04-11T23:31:02.042Z"
   },
   {
    "duration": 1375,
    "start_time": "2022-04-11T23:31:07.677Z"
   },
   {
    "duration": 46,
    "start_time": "2022-04-11T23:31:09.055Z"
   },
   {
    "duration": 13,
    "start_time": "2022-04-11T23:31:09.103Z"
   },
   {
    "duration": 24,
    "start_time": "2022-04-11T23:31:09.118Z"
   },
   {
    "duration": 11,
    "start_time": "2022-04-11T23:31:09.145Z"
   },
   {
    "duration": 15,
    "start_time": "2022-04-11T23:31:09.158Z"
   },
   {
    "duration": 15,
    "start_time": "2022-04-11T23:31:09.175Z"
   },
   {
    "duration": 65,
    "start_time": "2022-04-11T23:31:29.648Z"
   },
   {
    "duration": 4,
    "start_time": "2022-04-11T23:31:39.987Z"
   },
   {
    "duration": 7,
    "start_time": "2022-04-11T23:31:47.303Z"
   },
   {
    "duration": 143,
    "start_time": "2022-04-11T23:32:37.630Z"
   },
   {
    "duration": 7,
    "start_time": "2022-04-11T23:33:42.028Z"
   },
   {
    "duration": 7,
    "start_time": "2022-04-11T23:33:44.223Z"
   },
   {
    "duration": 9,
    "start_time": "2022-04-11T23:34:37.289Z"
   },
   {
    "duration": 7,
    "start_time": "2022-04-11T23:34:41.439Z"
   },
   {
    "duration": 6,
    "start_time": "2022-04-11T23:34:46.929Z"
   },
   {
    "duration": 9,
    "start_time": "2022-04-11T23:34:58.734Z"
   },
   {
    "duration": 8,
    "start_time": "2022-04-11T23:35:02.965Z"
   },
   {
    "duration": 9,
    "start_time": "2022-04-11T23:35:35.017Z"
   },
   {
    "duration": 172,
    "start_time": "2022-04-11T23:35:54.205Z"
   },
   {
    "duration": 8,
    "start_time": "2022-04-11T23:36:59.080Z"
   },
   {
    "duration": 145,
    "start_time": "2022-04-11T23:37:20.277Z"
   },
   {
    "duration": 3,
    "start_time": "2022-04-11T23:38:40.215Z"
   },
   {
    "duration": 158,
    "start_time": "2022-04-11T23:38:46.217Z"
   },
   {
    "duration": 13,
    "start_time": "2022-04-11T23:44:02.508Z"
   },
   {
    "duration": 18,
    "start_time": "2022-04-11T23:44:16.511Z"
   },
   {
    "duration": 11,
    "start_time": "2022-04-11T23:48:21.842Z"
   },
   {
    "duration": 17,
    "start_time": "2022-04-11T23:48:35.055Z"
   },
   {
    "duration": 16,
    "start_time": "2022-04-11T23:51:04.850Z"
   },
   {
    "duration": 145,
    "start_time": "2022-04-11T23:51:20.731Z"
   },
   {
    "duration": 168,
    "start_time": "2022-04-11T23:51:29.594Z"
   },
   {
    "duration": 10,
    "start_time": "2022-04-11T23:52:51.891Z"
   },
   {
    "duration": 9,
    "start_time": "2022-04-11T23:53:34.463Z"
   },
   {
    "duration": 164,
    "start_time": "2022-04-11T23:54:02.140Z"
   },
   {
    "duration": 194,
    "start_time": "2022-04-11T23:54:13.007Z"
   },
   {
    "duration": 106,
    "start_time": "2022-04-11T23:55:56.774Z"
   },
   {
    "duration": 14,
    "start_time": "2022-04-11T23:57:22.155Z"
   },
   {
    "duration": 7,
    "start_time": "2022-04-11T23:57:50.724Z"
   },
   {
    "duration": 53,
    "start_time": "2022-04-11T23:58:30.066Z"
   },
   {
    "duration": 1205,
    "start_time": "2022-04-11T23:58:53.632Z"
   },
   {
    "duration": 21,
    "start_time": "2022-04-11T23:58:54.839Z"
   },
   {
    "duration": 12,
    "start_time": "2022-04-11T23:58:54.862Z"
   },
   {
    "duration": 21,
    "start_time": "2022-04-11T23:58:54.876Z"
   },
   {
    "duration": 18,
    "start_time": "2022-04-11T23:58:54.900Z"
   },
   {
    "duration": 13,
    "start_time": "2022-04-11T23:58:54.920Z"
   },
   {
    "duration": 204,
    "start_time": "2022-04-11T23:58:54.935Z"
   },
   {
    "duration": 182,
    "start_time": "2022-04-11T23:59:09.765Z"
   },
   {
    "duration": 1238,
    "start_time": "2022-04-11T23:59:32.102Z"
   },
   {
    "duration": 21,
    "start_time": "2022-04-11T23:59:33.342Z"
   },
   {
    "duration": 12,
    "start_time": "2022-04-11T23:59:33.365Z"
   },
   {
    "duration": 23,
    "start_time": "2022-04-11T23:59:33.379Z"
   },
   {
    "duration": 16,
    "start_time": "2022-04-11T23:59:33.405Z"
   },
   {
    "duration": 16,
    "start_time": "2022-04-11T23:59:33.424Z"
   },
   {
    "duration": 192,
    "start_time": "2022-04-11T23:59:33.443Z"
   },
   {
    "duration": 209,
    "start_time": "2022-04-11T23:59:33.638Z"
   },
   {
    "duration": 116,
    "start_time": "2022-04-11T23:59:33.849Z"
   },
   {
    "duration": 9,
    "start_time": "2022-04-12T00:00:49.056Z"
   },
   {
    "duration": 14,
    "start_time": "2022-04-12T00:00:53.180Z"
   },
   {
    "duration": 12,
    "start_time": "2022-04-12T00:01:15.043Z"
   },
   {
    "duration": 1165,
    "start_time": "2022-04-12T00:01:23.065Z"
   },
   {
    "duration": 21,
    "start_time": "2022-04-12T00:01:24.232Z"
   },
   {
    "duration": 13,
    "start_time": "2022-04-12T00:01:24.254Z"
   },
   {
    "duration": 22,
    "start_time": "2022-04-12T00:01:24.269Z"
   },
   {
    "duration": 11,
    "start_time": "2022-04-12T00:01:24.294Z"
   },
   {
    "duration": 19,
    "start_time": "2022-04-12T00:01:24.318Z"
   },
   {
    "duration": 195,
    "start_time": "2022-04-12T00:01:24.338Z"
   },
   {
    "duration": 201,
    "start_time": "2022-04-12T00:01:24.534Z"
   },
   {
    "duration": 116,
    "start_time": "2022-04-12T00:01:24.736Z"
   },
   {
    "duration": 138,
    "start_time": "2022-04-12T00:01:51.713Z"
   },
   {
    "duration": 21,
    "start_time": "2022-04-12T00:01:56.510Z"
   },
   {
    "duration": 10,
    "start_time": "2022-04-12T00:02:07.331Z"
   },
   {
    "duration": 14,
    "start_time": "2022-04-12T00:02:35.769Z"
   },
   {
    "duration": 100,
    "start_time": "2022-04-12T00:02:57.885Z"
   },
   {
    "duration": 103,
    "start_time": "2022-04-12T00:03:12.587Z"
   },
   {
    "duration": 1770,
    "start_time": "2022-04-12T00:03:21.393Z"
   },
   {
    "duration": 2,
    "start_time": "2022-04-12T00:03:29.012Z"
   },
   {
    "duration": 25,
    "start_time": "2022-04-12T00:06:32.181Z"
   },
   {
    "duration": 24,
    "start_time": "2022-04-12T00:06:40.997Z"
   },
   {
    "duration": 2,
    "start_time": "2022-04-12T00:59:43.176Z"
   },
   {
    "duration": 23,
    "start_time": "2022-04-12T01:01:14.263Z"
   },
   {
    "duration": 6,
    "start_time": "2022-04-12T01:03:05.250Z"
   },
   {
    "duration": 13,
    "start_time": "2022-04-12T01:03:09.342Z"
   },
   {
    "duration": 14,
    "start_time": "2022-04-12T01:03:23.787Z"
   },
   {
    "duration": 8,
    "start_time": "2022-04-12T01:10:35.842Z"
   },
   {
    "duration": 7,
    "start_time": "2022-04-12T01:12:17.676Z"
   },
   {
    "duration": 8,
    "start_time": "2022-04-12T01:13:55.646Z"
   },
   {
    "duration": 10,
    "start_time": "2022-04-12T01:14:27.156Z"
   },
   {
    "duration": 164,
    "start_time": "2022-04-12T01:20:02.234Z"
   },
   {
    "duration": 193,
    "start_time": "2022-04-12T01:20:12.561Z"
   },
   {
    "duration": 190,
    "start_time": "2022-04-12T01:20:25.356Z"
   },
   {
    "duration": 206,
    "start_time": "2022-04-12T01:20:32.114Z"
   },
   {
    "duration": 182,
    "start_time": "2022-04-12T01:20:51.783Z"
   },
   {
    "duration": 160,
    "start_time": "2022-04-12T01:20:56.942Z"
   },
   {
    "duration": 207,
    "start_time": "2022-04-12T07:10:36.165Z"
   },
   {
    "duration": 212,
    "start_time": "2022-04-12T07:10:41.337Z"
   },
   {
    "duration": 325,
    "start_time": "2022-04-12T07:13:56.870Z"
   },
   {
    "duration": 230,
    "start_time": "2022-04-12T07:14:04.174Z"
   },
   {
    "duration": 208,
    "start_time": "2022-04-12T07:14:19.695Z"
   },
   {
    "duration": 261,
    "start_time": "2022-04-12T07:15:42.992Z"
   },
   {
    "duration": 204,
    "start_time": "2022-04-12T07:19:07.739Z"
   },
   {
    "duration": 204,
    "start_time": "2022-04-12T07:19:17.331Z"
   },
   {
    "duration": 6,
    "start_time": "2022-04-12T07:20:12.900Z"
   },
   {
    "duration": 156,
    "start_time": "2022-04-12T07:20:16.707Z"
   },
   {
    "duration": 8,
    "start_time": "2022-04-12T07:20:23.140Z"
   },
   {
    "duration": 10,
    "start_time": "2022-04-12T07:20:47.483Z"
   },
   {
    "duration": 30,
    "start_time": "2022-04-12T07:23:07.862Z"
   },
   {
    "duration": 11,
    "start_time": "2022-04-12T07:23:10.286Z"
   },
   {
    "duration": 136,
    "start_time": "2022-04-12T07:38:16.761Z"
   },
   {
    "duration": 10,
    "start_time": "2022-04-12T07:44:15.142Z"
   },
   {
    "duration": 193,
    "start_time": "2022-04-12T07:47:40.718Z"
   },
   {
    "duration": 51,
    "start_time": "2022-04-13T00:45:36.509Z"
   },
   {
    "duration": 1397,
    "start_time": "2022-04-13T00:45:41.762Z"
   },
   {
    "duration": 116,
    "start_time": "2022-04-13T00:45:43.161Z"
   },
   {
    "duration": 13,
    "start_time": "2022-04-13T00:45:43.278Z"
   },
   {
    "duration": 16,
    "start_time": "2022-04-13T00:45:43.293Z"
   },
   {
    "duration": 62,
    "start_time": "2022-04-13T00:45:43.311Z"
   },
   {
    "duration": 0,
    "start_time": "2022-04-13T00:45:43.375Z"
   },
   {
    "duration": 0,
    "start_time": "2022-04-13T00:45:43.376Z"
   },
   {
    "duration": 0,
    "start_time": "2022-04-13T00:45:43.377Z"
   },
   {
    "duration": 0,
    "start_time": "2022-04-13T00:45:43.378Z"
   },
   {
    "duration": 0,
    "start_time": "2022-04-13T00:45:43.380Z"
   },
   {
    "duration": 0,
    "start_time": "2022-04-13T00:45:43.381Z"
   },
   {
    "duration": 0,
    "start_time": "2022-04-13T00:45:43.382Z"
   },
   {
    "duration": 0,
    "start_time": "2022-04-13T00:45:43.383Z"
   },
   {
    "duration": 0,
    "start_time": "2022-04-13T00:45:43.384Z"
   },
   {
    "duration": 0,
    "start_time": "2022-04-13T00:45:43.385Z"
   },
   {
    "duration": 3,
    "start_time": "2022-04-13T00:45:50.181Z"
   },
   {
    "duration": 34,
    "start_time": "2022-04-13T00:45:50.186Z"
   },
   {
    "duration": 10,
    "start_time": "2022-04-13T00:45:50.222Z"
   },
   {
    "duration": 14,
    "start_time": "2022-04-13T00:45:50.234Z"
   },
   {
    "duration": 28,
    "start_time": "2022-04-13T00:45:50.250Z"
   },
   {
    "duration": 0,
    "start_time": "2022-04-13T00:45:50.280Z"
   },
   {
    "duration": 0,
    "start_time": "2022-04-13T00:45:50.281Z"
   },
   {
    "duration": 0,
    "start_time": "2022-04-13T00:45:50.282Z"
   },
   {
    "duration": 0,
    "start_time": "2022-04-13T00:45:50.284Z"
   },
   {
    "duration": 0,
    "start_time": "2022-04-13T00:45:50.284Z"
   },
   {
    "duration": 0,
    "start_time": "2022-04-13T00:45:50.285Z"
   },
   {
    "duration": 0,
    "start_time": "2022-04-13T00:45:50.287Z"
   },
   {
    "duration": 0,
    "start_time": "2022-04-13T00:45:50.288Z"
   },
   {
    "duration": 0,
    "start_time": "2022-04-13T00:45:50.289Z"
   },
   {
    "duration": 0,
    "start_time": "2022-04-13T00:45:50.290Z"
   },
   {
    "duration": 217,
    "start_time": "2022-04-13T00:46:14.745Z"
   },
   {
    "duration": 3,
    "start_time": "2022-04-13T00:46:17.579Z"
   },
   {
    "duration": 32,
    "start_time": "2022-04-13T00:46:17.583Z"
   },
   {
    "duration": 11,
    "start_time": "2022-04-13T00:46:17.617Z"
   },
   {
    "duration": 16,
    "start_time": "2022-04-13T00:46:17.630Z"
   },
   {
    "duration": 191,
    "start_time": "2022-04-13T00:46:17.648Z"
   },
   {
    "duration": 10,
    "start_time": "2022-04-13T00:46:17.841Z"
   },
   {
    "duration": 14,
    "start_time": "2022-04-13T00:46:17.853Z"
   },
   {
    "duration": 15,
    "start_time": "2022-04-13T00:46:17.869Z"
   },
   {
    "duration": 0,
    "start_time": "2022-04-13T00:46:17.886Z"
   },
   {
    "duration": 0,
    "start_time": "2022-04-13T00:46:17.887Z"
   },
   {
    "duration": 0,
    "start_time": "2022-04-13T00:46:17.888Z"
   },
   {
    "duration": 0,
    "start_time": "2022-04-13T00:46:17.889Z"
   },
   {
    "duration": 0,
    "start_time": "2022-04-13T00:46:17.890Z"
   },
   {
    "duration": 0,
    "start_time": "2022-04-13T00:46:17.891Z"
   },
   {
    "duration": 3,
    "start_time": "2022-04-13T00:46:28.913Z"
   },
   {
    "duration": 30,
    "start_time": "2022-04-13T00:46:28.918Z"
   },
   {
    "duration": 10,
    "start_time": "2022-04-13T00:46:28.950Z"
   },
   {
    "duration": 14,
    "start_time": "2022-04-13T00:46:28.961Z"
   },
   {
    "duration": 205,
    "start_time": "2022-04-13T00:46:28.978Z"
   },
   {
    "duration": 11,
    "start_time": "2022-04-13T00:46:29.185Z"
   },
   {
    "duration": 17,
    "start_time": "2022-04-13T00:46:29.197Z"
   },
   {
    "duration": 193,
    "start_time": "2022-04-13T00:46:29.215Z"
   },
   {
    "duration": 71,
    "start_time": "2022-04-13T00:46:29.409Z"
   },
   {
    "duration": 0,
    "start_time": "2022-04-13T00:46:29.482Z"
   },
   {
    "duration": 0,
    "start_time": "2022-04-13T00:46:29.483Z"
   },
   {
    "duration": 1,
    "start_time": "2022-04-13T00:46:29.483Z"
   },
   {
    "duration": 0,
    "start_time": "2022-04-13T00:46:29.484Z"
   },
   {
    "duration": 176,
    "start_time": "2022-04-13T00:48:41.684Z"
   },
   {
    "duration": 179,
    "start_time": "2022-04-13T00:48:49.263Z"
   },
   {
    "duration": 192,
    "start_time": "2022-04-13T00:48:55.759Z"
   },
   {
    "duration": 178,
    "start_time": "2022-04-13T00:49:03.377Z"
   },
   {
    "duration": 33,
    "start_time": "2022-04-13T00:49:15.586Z"
   },
   {
    "duration": 3,
    "start_time": "2022-04-13T00:49:18.938Z"
   },
   {
    "duration": 33,
    "start_time": "2022-04-13T00:49:18.943Z"
   },
   {
    "duration": 11,
    "start_time": "2022-04-13T00:49:18.978Z"
   },
   {
    "duration": 16,
    "start_time": "2022-04-13T00:49:18.990Z"
   },
   {
    "duration": 270,
    "start_time": "2022-04-13T00:49:19.008Z"
   },
   {
    "duration": 11,
    "start_time": "2022-04-13T00:49:19.280Z"
   },
   {
    "duration": 14,
    "start_time": "2022-04-13T00:49:19.292Z"
   },
   {
    "duration": 226,
    "start_time": "2022-04-13T00:49:19.307Z"
   },
   {
    "duration": 36,
    "start_time": "2022-04-13T00:49:19.535Z"
   },
   {
    "duration": 141,
    "start_time": "2022-04-13T00:49:19.573Z"
   },
   {
    "duration": 19,
    "start_time": "2022-04-13T00:49:19.715Z"
   },
   {
    "duration": 16,
    "start_time": "2022-04-13T00:49:19.735Z"
   },
   {
    "duration": 15,
    "start_time": "2022-04-13T00:49:19.753Z"
   },
   {
    "duration": 3,
    "start_time": "2022-04-13T00:55:11.463Z"
   },
   {
    "duration": 32,
    "start_time": "2022-04-13T00:56:02.982Z"
   },
   {
    "duration": 18,
    "start_time": "2022-04-13T00:56:20.420Z"
   },
   {
    "duration": 647,
    "start_time": "2022-04-13T01:02:17.027Z"
   },
   {
    "duration": 6,
    "start_time": "2022-04-13T01:02:34.436Z"
   },
   {
    "duration": 135,
    "start_time": "2022-04-13T01:02:48.516Z"
   },
   {
    "duration": 122,
    "start_time": "2022-04-13T01:02:59.853Z"
   },
   {
    "duration": 9,
    "start_time": "2022-04-13T01:14:53.246Z"
   },
   {
    "duration": 126,
    "start_time": "2022-04-13T01:16:50.397Z"
   },
   {
    "duration": 10,
    "start_time": "2022-04-13T01:22:23.074Z"
   },
   {
    "duration": 8,
    "start_time": "2022-04-13T01:31:43.192Z"
   },
   {
    "duration": 8,
    "start_time": "2022-04-13T01:34:09.156Z"
   },
   {
    "duration": 10,
    "start_time": "2022-04-13T01:40:18.178Z"
   },
   {
    "duration": 8,
    "start_time": "2022-04-13T01:40:22.947Z"
   },
   {
    "duration": 4,
    "start_time": "2022-04-13T01:40:42.123Z"
   },
   {
    "duration": 12,
    "start_time": "2022-04-13T01:40:48.986Z"
   },
   {
    "duration": 124,
    "start_time": "2022-04-13T02:29:50.161Z"
   },
   {
    "duration": 14,
    "start_time": "2022-04-13T02:31:56.744Z"
   },
   {
    "duration": 20,
    "start_time": "2022-04-13T02:32:05.474Z"
   },
   {
    "duration": 12,
    "start_time": "2022-04-13T02:32:28.313Z"
   },
   {
    "duration": 10,
    "start_time": "2022-04-13T02:37:57.235Z"
   },
   {
    "duration": 203,
    "start_time": "2022-04-13T02:58:26.165Z"
   },
   {
    "duration": 177,
    "start_time": "2022-04-13T20:57:56.836Z"
   },
   {
    "duration": 70,
    "start_time": "2022-04-13T22:47:03.192Z"
   },
   {
    "duration": 1777,
    "start_time": "2022-04-13T22:47:08.760Z"
   },
   {
    "duration": 44,
    "start_time": "2022-04-13T22:47:10.540Z"
   },
   {
    "duration": 18,
    "start_time": "2022-04-13T22:47:10.586Z"
   },
   {
    "duration": 24,
    "start_time": "2022-04-13T22:47:10.607Z"
   },
   {
    "duration": 95,
    "start_time": "2022-04-13T22:47:10.635Z"
   },
   {
    "duration": 0,
    "start_time": "2022-04-13T22:47:10.732Z"
   },
   {
    "duration": 0,
    "start_time": "2022-04-13T22:47:10.734Z"
   },
   {
    "duration": 0,
    "start_time": "2022-04-13T22:47:10.735Z"
   },
   {
    "duration": 0,
    "start_time": "2022-04-13T22:47:10.737Z"
   },
   {
    "duration": 0,
    "start_time": "2022-04-13T22:47:10.738Z"
   },
   {
    "duration": 0,
    "start_time": "2022-04-13T22:47:10.752Z"
   },
   {
    "duration": 0,
    "start_time": "2022-04-13T22:47:10.754Z"
   },
   {
    "duration": 0,
    "start_time": "2022-04-13T22:47:10.755Z"
   },
   {
    "duration": 0,
    "start_time": "2022-04-13T22:47:10.757Z"
   },
   {
    "duration": 0,
    "start_time": "2022-04-13T22:47:10.758Z"
   },
   {
    "duration": 0,
    "start_time": "2022-04-13T22:47:10.760Z"
   },
   {
    "duration": 0,
    "start_time": "2022-04-13T22:47:10.761Z"
   },
   {
    "duration": 0,
    "start_time": "2022-04-13T22:47:10.762Z"
   },
   {
    "duration": 16,
    "start_time": "2022-04-13T22:48:44.999Z"
   },
   {
    "duration": 11,
    "start_time": "2022-04-13T22:48:54.188Z"
   },
   {
    "duration": 14,
    "start_time": "2022-04-13T22:49:33.331Z"
   },
   {
    "duration": 4,
    "start_time": "2022-04-13T22:49:47.351Z"
   },
   {
    "duration": 12,
    "start_time": "2022-04-13T22:49:51.941Z"
   },
   {
    "duration": 13,
    "start_time": "2022-04-13T22:50:18.940Z"
   },
   {
    "duration": 1,
    "start_time": "2022-04-13T22:50:18.955Z"
   },
   {
    "duration": 0,
    "start_time": "2022-04-13T22:50:18.957Z"
   },
   {
    "duration": 0,
    "start_time": "2022-04-13T22:50:18.960Z"
   },
   {
    "duration": 0,
    "start_time": "2022-04-13T22:50:18.962Z"
   },
   {
    "duration": 0,
    "start_time": "2022-04-13T22:50:18.963Z"
   },
   {
    "duration": 0,
    "start_time": "2022-04-13T22:50:18.965Z"
   },
   {
    "duration": 0,
    "start_time": "2022-04-13T22:50:18.966Z"
   },
   {
    "duration": 311,
    "start_time": "2022-04-13T22:50:52.180Z"
   },
   {
    "duration": 15,
    "start_time": "2022-04-13T22:50:56.765Z"
   },
   {
    "duration": 4,
    "start_time": "2022-04-13T22:50:58.205Z"
   },
   {
    "duration": 17,
    "start_time": "2022-04-13T22:50:59.844Z"
   },
   {
    "duration": 12,
    "start_time": "2022-04-13T22:51:39.917Z"
   },
   {
    "duration": 266,
    "start_time": "2022-04-13T22:51:45.388Z"
   },
   {
    "duration": 44,
    "start_time": "2022-04-13T22:51:54.970Z"
   },
   {
    "duration": 16,
    "start_time": "2022-04-13T22:51:55.017Z"
   },
   {
    "duration": 21,
    "start_time": "2022-04-13T22:51:55.035Z"
   },
   {
    "duration": 205,
    "start_time": "2022-04-13T22:51:55.058Z"
   },
   {
    "duration": 11,
    "start_time": "2022-04-13T22:51:55.266Z"
   },
   {
    "duration": 199,
    "start_time": "2022-04-13T22:51:55.279Z"
   },
   {
    "duration": 13,
    "start_time": "2022-04-13T22:51:55.480Z"
   },
   {
    "duration": 44,
    "start_time": "2022-04-20T06:06:01.234Z"
   },
   {
    "duration": 1304,
    "start_time": "2022-04-20T06:06:11.020Z"
   },
   {
    "duration": 89,
    "start_time": "2022-04-20T06:06:12.326Z"
   },
   {
    "duration": 11,
    "start_time": "2022-04-20T06:06:12.416Z"
   },
   {
    "duration": 15,
    "start_time": "2022-04-20T06:06:12.430Z"
   },
   {
    "duration": 8,
    "start_time": "2022-04-20T06:06:12.446Z"
   },
   {
    "duration": 187,
    "start_time": "2022-04-20T06:06:12.456Z"
   },
   {
    "duration": 13,
    "start_time": "2022-04-20T06:06:12.645Z"
   },
   {
    "duration": 7,
    "start_time": "2022-04-20T06:06:12.659Z"
   },
   {
    "duration": 21,
    "start_time": "2022-04-20T06:06:12.667Z"
   },
   {
    "duration": 16,
    "start_time": "2022-04-20T06:06:12.690Z"
   },
   {
    "duration": 162,
    "start_time": "2022-04-20T06:06:12.708Z"
   },
   {
    "duration": 65,
    "start_time": "2022-04-20T06:06:12.871Z"
   },
   {
    "duration": 10,
    "start_time": "2022-04-20T06:06:12.937Z"
   },
   {
    "duration": 13,
    "start_time": "2022-04-20T06:06:12.948Z"
   },
   {
    "duration": 110,
    "start_time": "2022-04-20T06:06:12.963Z"
   },
   {
    "duration": 7,
    "start_time": "2022-04-20T06:06:13.075Z"
   },
   {
    "duration": 118,
    "start_time": "2022-04-20T06:06:13.084Z"
   },
   {
    "duration": 9,
    "start_time": "2022-04-20T06:06:13.203Z"
   },
   {
    "duration": 12,
    "start_time": "2022-04-20T06:06:23.710Z"
   },
   {
    "duration": 10,
    "start_time": "2022-04-20T06:06:37.447Z"
   },
   {
    "duration": 59,
    "start_time": "2022-04-20T06:09:31.382Z"
   },
   {
    "duration": 9,
    "start_time": "2022-04-20T06:09:36.631Z"
   },
   {
    "duration": 13,
    "start_time": "2022-04-20T06:09:41.943Z"
   },
   {
    "duration": 9,
    "start_time": "2022-04-20T06:10:49.026Z"
   },
   {
    "duration": 1183,
    "start_time": "2022-04-20T06:10:55.102Z"
   },
   {
    "duration": 31,
    "start_time": "2022-04-20T06:10:56.288Z"
   },
   {
    "duration": 15,
    "start_time": "2022-04-20T06:10:56.322Z"
   },
   {
    "duration": 22,
    "start_time": "2022-04-20T06:10:56.339Z"
   },
   {
    "duration": 10,
    "start_time": "2022-04-20T06:10:56.364Z"
   },
   {
    "duration": 285,
    "start_time": "2022-04-20T06:10:56.376Z"
   },
   {
    "duration": 13,
    "start_time": "2022-04-20T06:10:56.663Z"
   },
   {
    "duration": 22,
    "start_time": "2022-04-20T06:10:56.678Z"
   },
   {
    "duration": 11,
    "start_time": "2022-04-20T06:10:56.702Z"
   },
   {
    "duration": 10,
    "start_time": "2022-04-20T06:10:56.715Z"
   },
   {
    "duration": 159,
    "start_time": "2022-04-20T06:10:56.726Z"
   },
   {
    "duration": 34,
    "start_time": "2022-04-20T06:10:56.887Z"
   },
   {
    "duration": 10,
    "start_time": "2022-04-20T06:10:56.922Z"
   },
   {
    "duration": 13,
    "start_time": "2022-04-20T06:10:56.935Z"
   },
   {
    "duration": 121,
    "start_time": "2022-04-20T06:10:56.950Z"
   },
   {
    "duration": 9,
    "start_time": "2022-04-20T06:10:57.072Z"
   },
   {
    "duration": 108,
    "start_time": "2022-04-20T06:10:57.082Z"
   },
   {
    "duration": 9,
    "start_time": "2022-04-20T06:10:57.200Z"
   }
  ],
  "kernelspec": {
   "display_name": "Python 3 (ipykernel)",
   "language": "python",
   "name": "python3"
  },
  "language_info": {
   "codemirror_mode": {
    "name": "ipython",
    "version": 3
   },
   "file_extension": ".py",
   "mimetype": "text/x-python",
   "name": "python",
   "nbconvert_exporter": "python",
   "pygments_lexer": "ipython3",
   "version": "3.9.5"
  },
  "toc": {
   "base_numbering": 1,
   "nav_menu": {},
   "number_sections": true,
   "sideBar": true,
   "skip_h1_title": true,
   "title_cell": "Table of Contents",
   "title_sidebar": "Contents",
   "toc_cell": false,
   "toc_position": {},
   "toc_section_display": true,
   "toc_window_display": false
  }
 },
 "nbformat": 4,
 "nbformat_minor": 2
}
